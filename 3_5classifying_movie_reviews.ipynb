{
  "nbformat": 4,
  "nbformat_minor": 0,
  "metadata": {
    "colab": {
      "name": "3.5classifying-movie-reviews.ipynb",
      "version": "0.3.2",
      "provenance": []
    },
    "kernelspec": {
      "name": "python3",
      "display_name": "Python 3"
    }
  },
  "cells": [
    {
      "cell_type": "markdown",
      "metadata": {
        "id": "view-in-github",
        "colab_type": "text"
      },
      "source": [
        "[View in Colaboratory](https://colab.research.google.com/github/aayushkumarjvs/deep-learning-with-python-notebooks/blob/master/3_5classifying_movie_reviews.ipynb)"
      ]
    },
    {
      "metadata": {
        "id": "wMX5T9Oa89gt",
        "colab_type": "code",
        "colab": {
          "base_uri": "https://localhost:8080/",
          "height": 52
        },
        "outputId": "9ef23194-cca1-4889-d15d-92a307df2822"
      },
      "cell_type": "code",
      "source": [
        "#!/usr/bin/env python3 \n",
        "!pip install -q keras   # This only required for Google's Colab\n",
        "import keras\n",
        "keras.__version__\n"
      ],
      "execution_count": 1,
      "outputs": [
        {
          "output_type": "stream",
          "text": [
            "Using TensorFlow backend.\n"
          ],
          "name": "stderr"
        },
        {
          "output_type": "execute_result",
          "data": {
            "text/plain": [
              "'2.1.5'"
            ]
          },
          "metadata": {
            "tags": []
          },
          "execution_count": 1
        }
      ]
    },
    {
      "metadata": {
        "id": "KlMI-Z7o9FcO",
        "colab_type": "code",
        "colab": {
          "base_uri": "https://localhost:8080/",
          "height": 52
        },
        "outputId": "1b4aabe0-4d43-434e-f0a9-337b65b57b05"
      },
      "cell_type": "code",
      "source": [
        "from keras.datasets import imdb\n",
        "\n",
        "(train_data, train_labels), (test_data, test_labels) = imdb.load_data(num_words=10000)"
      ],
      "execution_count": 2,
      "outputs": [
        {
          "output_type": "stream",
          "text": [
            "Downloading data from https://s3.amazonaws.com/text-datasets/imdb.npz\n",
            "17465344/17464789 [==============================] - 7s 0us/step\n"
          ],
          "name": "stdout"
        }
      ]
    },
    {
      "metadata": {
        "id": "fUtCFSW69IZL",
        "colab_type": "code",
        "colab": {
          "base_uri": "https://localhost:8080/",
          "height": 3892
        },
        "outputId": "c4a36c5d-03c1-4d39-96fc-47b04a8dc5f6"
      },
      "cell_type": "code",
      "source": [
        "train_data[0]"
      ],
      "execution_count": 3,
      "outputs": [
        {
          "output_type": "execute_result",
          "data": {
            "text/plain": [
              "[1,\n",
              " 14,\n",
              " 22,\n",
              " 16,\n",
              " 43,\n",
              " 530,\n",
              " 973,\n",
              " 1622,\n",
              " 1385,\n",
              " 65,\n",
              " 458,\n",
              " 4468,\n",
              " 66,\n",
              " 3941,\n",
              " 4,\n",
              " 173,\n",
              " 36,\n",
              " 256,\n",
              " 5,\n",
              " 25,\n",
              " 100,\n",
              " 43,\n",
              " 838,\n",
              " 112,\n",
              " 50,\n",
              " 670,\n",
              " 2,\n",
              " 9,\n",
              " 35,\n",
              " 480,\n",
              " 284,\n",
              " 5,\n",
              " 150,\n",
              " 4,\n",
              " 172,\n",
              " 112,\n",
              " 167,\n",
              " 2,\n",
              " 336,\n",
              " 385,\n",
              " 39,\n",
              " 4,\n",
              " 172,\n",
              " 4536,\n",
              " 1111,\n",
              " 17,\n",
              " 546,\n",
              " 38,\n",
              " 13,\n",
              " 447,\n",
              " 4,\n",
              " 192,\n",
              " 50,\n",
              " 16,\n",
              " 6,\n",
              " 147,\n",
              " 2025,\n",
              " 19,\n",
              " 14,\n",
              " 22,\n",
              " 4,\n",
              " 1920,\n",
              " 4613,\n",
              " 469,\n",
              " 4,\n",
              " 22,\n",
              " 71,\n",
              " 87,\n",
              " 12,\n",
              " 16,\n",
              " 43,\n",
              " 530,\n",
              " 38,\n",
              " 76,\n",
              " 15,\n",
              " 13,\n",
              " 1247,\n",
              " 4,\n",
              " 22,\n",
              " 17,\n",
              " 515,\n",
              " 17,\n",
              " 12,\n",
              " 16,\n",
              " 626,\n",
              " 18,\n",
              " 2,\n",
              " 5,\n",
              " 62,\n",
              " 386,\n",
              " 12,\n",
              " 8,\n",
              " 316,\n",
              " 8,\n",
              " 106,\n",
              " 5,\n",
              " 4,\n",
              " 2223,\n",
              " 5244,\n",
              " 16,\n",
              " 480,\n",
              " 66,\n",
              " 3785,\n",
              " 33,\n",
              " 4,\n",
              " 130,\n",
              " 12,\n",
              " 16,\n",
              " 38,\n",
              " 619,\n",
              " 5,\n",
              " 25,\n",
              " 124,\n",
              " 51,\n",
              " 36,\n",
              " 135,\n",
              " 48,\n",
              " 25,\n",
              " 1415,\n",
              " 33,\n",
              " 6,\n",
              " 22,\n",
              " 12,\n",
              " 215,\n",
              " 28,\n",
              " 77,\n",
              " 52,\n",
              " 5,\n",
              " 14,\n",
              " 407,\n",
              " 16,\n",
              " 82,\n",
              " 2,\n",
              " 8,\n",
              " 4,\n",
              " 107,\n",
              " 117,\n",
              " 5952,\n",
              " 15,\n",
              " 256,\n",
              " 4,\n",
              " 2,\n",
              " 7,\n",
              " 3766,\n",
              " 5,\n",
              " 723,\n",
              " 36,\n",
              " 71,\n",
              " 43,\n",
              " 530,\n",
              " 476,\n",
              " 26,\n",
              " 400,\n",
              " 317,\n",
              " 46,\n",
              " 7,\n",
              " 4,\n",
              " 2,\n",
              " 1029,\n",
              " 13,\n",
              " 104,\n",
              " 88,\n",
              " 4,\n",
              " 381,\n",
              " 15,\n",
              " 297,\n",
              " 98,\n",
              " 32,\n",
              " 2071,\n",
              " 56,\n",
              " 26,\n",
              " 141,\n",
              " 6,\n",
              " 194,\n",
              " 7486,\n",
              " 18,\n",
              " 4,\n",
              " 226,\n",
              " 22,\n",
              " 21,\n",
              " 134,\n",
              " 476,\n",
              " 26,\n",
              " 480,\n",
              " 5,\n",
              " 144,\n",
              " 30,\n",
              " 5535,\n",
              " 18,\n",
              " 51,\n",
              " 36,\n",
              " 28,\n",
              " 224,\n",
              " 92,\n",
              " 25,\n",
              " 104,\n",
              " 4,\n",
              " 226,\n",
              " 65,\n",
              " 16,\n",
              " 38,\n",
              " 1334,\n",
              " 88,\n",
              " 12,\n",
              " 16,\n",
              " 283,\n",
              " 5,\n",
              " 16,\n",
              " 4472,\n",
              " 113,\n",
              " 103,\n",
              " 32,\n",
              " 15,\n",
              " 16,\n",
              " 5345,\n",
              " 19,\n",
              " 178,\n",
              " 32]"
            ]
          },
          "metadata": {
            "tags": []
          },
          "execution_count": 3
        }
      ]
    },
    {
      "metadata": {
        "id": "MkZPvwFf9L_E",
        "colab_type": "code",
        "colab": {
          "base_uri": "https://localhost:8080/",
          "height": 34
        },
        "outputId": "e487dcc5-0d8a-4f19-fb44-71ba11cf3cab"
      },
      "cell_type": "code",
      "source": [
        "train_labels[0]"
      ],
      "execution_count": 4,
      "outputs": [
        {
          "output_type": "execute_result",
          "data": {
            "text/plain": [
              "1"
            ]
          },
          "metadata": {
            "tags": []
          },
          "execution_count": 4
        }
      ]
    },
    {
      "metadata": {
        "id": "vP6XSJYr9QXL",
        "colab_type": "code",
        "colab": {
          "base_uri": "https://localhost:8080/",
          "height": 34
        },
        "outputId": "b3cacef7-dfbf-486c-e002-b671f639e0ad"
      },
      "cell_type": "code",
      "source": [
        "max([max(sequence) for sequence in train_data])"
      ],
      "execution_count": 5,
      "outputs": [
        {
          "output_type": "execute_result",
          "data": {
            "text/plain": [
              "9999"
            ]
          },
          "metadata": {
            "tags": []
          },
          "execution_count": 5
        }
      ]
    },
    {
      "metadata": {
        "id": "KeyFhnQP9Zh6",
        "colab_type": "code",
        "colab": {}
      },
      "cell_type": "code",
      "source": [
        "word_index = imdb.get_word_index()             #dict mapping of words to index values repectively\n",
        "\n",
        "reverse_word_index =  dict([(value, key) for (key, value) in word_index.items()])                 #similarly revrse mapping of index values to words\n",
        "\n",
        "#Note we are decoding the reviews by an offset of 3, as 0,1,2 are are revesed for \"padding\",\"start if sequence\" and \"unknown\"\n",
        "\n",
        "decoded_review = ' '.join([reverse_word_index.get(i - 3, '?') for i in train_data[0]])"
      ],
      "execution_count": 0,
      "outputs": []
    },
    {
      "metadata": {
        "id": "plO--YFz-3b9",
        "colab_type": "code",
        "colab": {
          "base_uri": "https://localhost:8080/",
          "height": 54
        },
        "outputId": "0229cc24-ec30-4bba-8fe9-63a97c78a19f"
      },
      "cell_type": "code",
      "source": [
        "decoded_review"
      ],
      "execution_count": 10,
      "outputs": [
        {
          "output_type": "execute_result",
          "data": {
            "text/plain": [
              "\"? this film was just brilliant casting location scenery story direction everyone's really suited the part they played and you could just imagine being there robert ? is an amazing actor and now the same being director ? father came from the same scottish island as myself so i loved the fact there was a real connection with this film the witty remarks throughout the film were great it was just brilliant so much that i bought the film as soon as it was released for ? and would recommend it to everyone to watch and the fly fishing was amazing really cried at the end it was so sad and you know what they say if you cry at a film it must have been good and this definitely was also ? to the two little boy's that played the ? of norman and paul they were just brilliant children are often left out of the ? list i think because the stars that play them all grown up are such a big profile for the whole film but these children are amazing and should be praised for what they have done don't you think the whole story was so lovely because it was true and was someone's life after all that was shared with us all\""
            ]
          },
          "metadata": {
            "tags": []
          },
          "execution_count": 10
        }
      ]
    },
    {
      "metadata": {
        "id": "lI7GSDnP-8t-",
        "colab_type": "code",
        "colab": {}
      },
      "cell_type": "code",
      "source": [
        "import numpy as np\n",
        "\n",
        "def vectorize_sequences(sequences, dimension=10000):\n",
        "    # Creating all-zero matrix of shape (len(sequences), dimension)\n",
        "    results = np.zeros((len(sequences), dimension))\n",
        "    for i, sequence in enumerate(sequences):\n",
        "        results[i, sequence] = 1.  # set specific indices of results[i] to 1s\n",
        "    return results"
      ],
      "execution_count": 0,
      "outputs": []
    },
    {
      "metadata": {
        "id": "m0XjXOea_cLO",
        "colab_type": "code",
        "colab": {}
      },
      "cell_type": "code",
      "source": [
        "#Traning data\n",
        "x_train = vectorize_sequences(train_data)\n",
        "#Test data\n",
        "x_test = vectorize_sequences(test_data)"
      ],
      "execution_count": 0,
      "outputs": []
    },
    {
      "metadata": {
        "id": "8a5XEzju_oIb",
        "colab_type": "code",
        "colab": {
          "base_uri": "https://localhost:8080/",
          "height": 34
        },
        "outputId": "e6795b4d-c12d-4cb6-9415-c893762a1e15"
      },
      "cell_type": "code",
      "source": [
        "x_train[0]"
      ],
      "execution_count": 15,
      "outputs": [
        {
          "output_type": "execute_result",
          "data": {
            "text/plain": [
              "array([0., 1., 1., ..., 0., 0., 0.])"
            ]
          },
          "metadata": {
            "tags": []
          },
          "execution_count": 15
        }
      ]
    },
    {
      "metadata": {
        "id": "JCbTaoBf_ule",
        "colab_type": "code",
        "colab": {}
      },
      "cell_type": "code",
      "source": [
        "#Vectorizing labels\n",
        "y_train = np.asarray(train_labels).astype('float32')\n",
        "y_test = np.asarray(test_labels).astype('float32')"
      ],
      "execution_count": 0,
      "outputs": []
    },
    {
      "metadata": {
        "id": "hM8xtfIR_3o0",
        "colab_type": "code",
        "colab": {}
      },
      "cell_type": "code",
      "source": [
        "from keras import layers\n",
        "from keras import models\n",
        "\n",
        "model = models.Sequential()\n",
        "#Creating 3 dense layers to vectorize our word and get their respective labels\n",
        "model.add(layers.Dense(16, activation='relu', input_shape=(10000,)))\n",
        "model.add(layers.Dense(16, activation='relu'))\n",
        "model.add(layers.Dense(1, activation='sigmoid'))"
      ],
      "execution_count": 0,
      "outputs": []
    },
    {
      "metadata": {
        "id": "lYNxTjqGAJha",
        "colab_type": "code",
        "colab": {}
      },
      "cell_type": "code",
      "source": [
        "model.compile(optimizer='rmsprop',\n",
        "              loss='binary_crossentropy',\n",
        "              metrics=['accuracy'])"
      ],
      "execution_count": 0,
      "outputs": []
    },
    {
      "metadata": {
        "id": "RE45tW0CAMdH",
        "colab_type": "code",
        "colab": {}
      },
      "cell_type": "code",
      "source": [
        "from keras import optimizers\n",
        "\n",
        "model.compile(optimizer=optimizers.RMSprop(lr=0.01),\n",
        "              loss='binary_crossentropy',\n",
        "              metrics=['accuracy'])"
      ],
      "execution_count": 0,
      "outputs": []
    },
    {
      "metadata": {
        "id": "KiaEfPM1AQ4k",
        "colab_type": "code",
        "colab": {}
      },
      "cell_type": "code",
      "source": [
        "x_val = x_train[:10000]\n",
        "partial_x_train = x_train[10000:]\n"
      ],
      "execution_count": 0,
      "outputs": []
    },
    {
      "metadata": {
        "id": "fUXGcb4qAUEk",
        "colab_type": "code",
        "colab": {}
      },
      "cell_type": "code",
      "source": [
        "y_val = y_train[:10000]\n",
        "partial_y_train = y_train[10000:]"
      ],
      "execution_count": 0,
      "outputs": []
    },
    {
      "metadata": {
        "id": "uIWNDF1IAWds",
        "colab_type": "code",
        "colab": {
          "base_uri": "https://localhost:8080/",
          "height": 1832
        },
        "outputId": "3da67db5-d547-4f66-e421-0b0211f0e01e"
      },
      "cell_type": "code",
      "source": [
        "history = model.fit(partial_x_train,\n",
        "                    partial_y_train,\n",
        "                    epochs=50,\n",
        "                    batch_size=512,\n",
        "                    validation_data=(x_val, y_val))"
      ],
      "execution_count": 22,
      "outputs": [
        {
          "output_type": "stream",
          "text": [
            "Train on 15000 samples, validate on 10000 samples\n",
            "Epoch 1/50\n",
            "15000/15000 [==============================] - 1s 96us/step - loss: 0.6057 - acc: 0.7049 - val_loss: 0.3241 - val_acc: 0.8722\n",
            "Epoch 2/50\n",
            "15000/15000 [==============================] - 2s 105us/step - loss: 0.3311 - acc: 0.8631 - val_loss: 0.3342 - val_acc: 0.8587\n",
            "Epoch 3/50\n",
            "15000/15000 [==============================] - 2s 105us/step - loss: 0.2331 - acc: 0.9057 - val_loss: 0.7210 - val_acc: 0.7346\n",
            "Epoch 4/50\n",
            "15000/15000 [==============================] - 2s 105us/step - loss: 0.2409 - acc: 0.9015 - val_loss: 0.2924 - val_acc: 0.8892\n",
            "Epoch 5/50\n",
            "15000/15000 [==============================] - 2s 105us/step - loss: 0.1741 - acc: 0.9333 - val_loss: 0.5519 - val_acc: 0.8217\n",
            "Epoch 6/50\n",
            "15000/15000 [==============================] - 2s 105us/step - loss: 0.1392 - acc: 0.9498 - val_loss: 0.4007 - val_acc: 0.8799\n",
            "Epoch 7/50\n",
            "15000/15000 [==============================] - 2s 105us/step - loss: 0.1422 - acc: 0.9523 - val_loss: 0.3891 - val_acc: 0.8827\n",
            "Epoch 8/50\n",
            "15000/15000 [==============================] - 2s 105us/step - loss: 0.1000 - acc: 0.9671 - val_loss: 0.6348 - val_acc: 0.8565\n",
            "Epoch 9/50\n",
            "14848/15000 [============================>.] - ETA: 0s - loss: 0.0941 - acc: 0.9700"
          ],
          "name": "stdout"
        },
        {
          "output_type": "stream",
          "text": [
            "15000/15000 [==============================] - 2s 106us/step - loss: 0.0937 - acc: 0.9700 - val_loss: 0.5134 - val_acc: 0.8800\n",
            "Epoch 10/50\n",
            "15000/15000 [==============================] - 2s 108us/step - loss: 0.1011 - acc: 0.9756 - val_loss: 0.5325 - val_acc: 0.8775\n",
            "Epoch 11/50\n",
            "15000/15000 [==============================] - 2s 106us/step - loss: 0.1212 - acc: 0.9748 - val_loss: 0.5210 - val_acc: 0.8757\n",
            "Epoch 12/50\n",
            "15000/15000 [==============================] - 2s 106us/step - loss: 0.0087 - acc: 0.9986 - val_loss: 0.6494 - val_acc: 0.8754\n",
            "Epoch 13/50\n",
            "15000/15000 [==============================] - 2s 105us/step - loss: 0.0037 - acc: 0.9995 - val_loss: 0.7562 - val_acc: 0.8758\n",
            "Epoch 14/50\n",
            "15000/15000 [==============================] - 2s 105us/step - loss: 0.1547 - acc: 0.9827 - val_loss: 0.7371 - val_acc: 0.8675\n",
            "Epoch 15/50\n",
            "15000/15000 [==============================] - 2s 106us/step - loss: 0.0011 - acc: 1.0000 - val_loss: 0.8132 - val_acc: 0.8710\n",
            "Epoch 16/50\n",
            "15000/15000 [==============================] - 2s 106us/step - loss: 3.8458e-04 - acc: 1.0000 - val_loss: 0.8879 - val_acc: 0.8723\n",
            "Epoch 17/50\n",
            "15000/15000 [==============================] - 2s 107us/step - loss: 1.8548e-04 - acc: 1.0000 - val_loss: 0.9674 - val_acc: 0.8718\n",
            "Epoch 18/50\n",
            " 5632/15000 [==========>...................] - ETA: 0s - loss: 5.5466e-05 - acc: 1.0000"
          ],
          "name": "stdout"
        },
        {
          "output_type": "stream",
          "text": [
            "15000/15000 [==============================] - 2s 106us/step - loss: 0.1453 - acc: 0.9807 - val_loss: 0.9643 - val_acc: 0.8686\n",
            "Epoch 19/50\n",
            "15000/15000 [==============================] - 2s 109us/step - loss: 1.1919e-04 - acc: 1.0000 - val_loss: 0.9878 - val_acc: 0.8699\n",
            "Epoch 20/50\n",
            "15000/15000 [==============================] - 2s 107us/step - loss: 5.5419e-05 - acc: 1.0000 - val_loss: 1.0161 - val_acc: 0.8703\n",
            "Epoch 21/50\n",
            "15000/15000 [==============================] - 2s 108us/step - loss: 3.4050e-05 - acc: 1.0000 - val_loss: 1.0548 - val_acc: 0.8707\n",
            "Epoch 22/50\n",
            "15000/15000 [==============================] - 2s 109us/step - loss: 1.8013e-05 - acc: 1.0000 - val_loss: 1.1114 - val_acc: 0.8702\n",
            "Epoch 23/50\n",
            "15000/15000 [==============================] - 2s 107us/step - loss: 7.6319e-06 - acc: 1.0000 - val_loss: 1.1704 - val_acc: 0.8712\n",
            "Epoch 24/50\n",
            "15000/15000 [==============================] - 2s 107us/step - loss: 2.0012e-06 - acc: 1.0000 - val_loss: 1.2229 - val_acc: 0.8715\n",
            "Epoch 25/50\n",
            "15000/15000 [==============================] - 2s 108us/step - loss: 5.8837e-07 - acc: 1.0000 - val_loss: 1.2882 - val_acc: 0.8713\n",
            "Epoch 26/50\n",
            "15000/15000 [==============================] - 2s 107us/step - loss: 2.0683e-07 - acc: 1.0000 - val_loss: 1.3548 - val_acc: 0.8692\n",
            "Epoch 27/50\n",
            " 3584/15000 [======>.......................] - ETA: 0s - loss: 1.3382e-07 - acc: 1.0000"
          ],
          "name": "stdout"
        },
        {
          "output_type": "stream",
          "text": [
            "15000/15000 [==============================] - 2s 106us/step - loss: 1.2696e-07 - acc: 1.0000 - val_loss: 1.3795 - val_acc: 0.8710\n",
            "Epoch 28/50\n",
            "15000/15000 [==============================] - 2s 107us/step - loss: 1.1384e-07 - acc: 1.0000 - val_loss: 1.4082 - val_acc: 0.8705\n",
            "Epoch 29/50\n",
            "15000/15000 [==============================] - 2s 108us/step - loss: 1.1083e-07 - acc: 1.0000 - val_loss: 1.4249 - val_acc: 0.8705\n",
            "Epoch 30/50\n",
            "15000/15000 [==============================] - 2s 110us/step - loss: 1.1010e-07 - acc: 1.0000 - val_loss: 1.4337 - val_acc: 0.8704\n",
            "Epoch 31/50\n",
            "15000/15000 [==============================] - 2s 109us/step - loss: 1.0986e-07 - acc: 1.0000 - val_loss: 1.4387 - val_acc: 0.8701\n",
            "Epoch 32/50\n",
            "15000/15000 [==============================] - 2s 109us/step - loss: 1.0974e-07 - acc: 1.0000 - val_loss: 1.4443 - val_acc: 0.8705\n",
            "Epoch 33/50\n",
            "15000/15000 [==============================] - 2s 109us/step - loss: 1.0968e-07 - acc: 1.0000 - val_loss: 1.4470 - val_acc: 0.8702\n",
            "Epoch 34/50\n",
            "15000/15000 [==============================] - 2s 107us/step - loss: 1.0965e-07 - acc: 1.0000 - val_loss: 1.4495 - val_acc: 0.8703\n",
            "Epoch 35/50\n",
            "15000/15000 [==============================] - 2s 107us/step - loss: 1.0963e-07 - acc: 1.0000 - val_loss: 1.4510 - val_acc: 0.8701\n",
            "Epoch 36/50\n",
            " 2560/15000 [====>.........................] - ETA: 0s - loss: 1.0921e-07 - acc: 1.0000"
          ],
          "name": "stdout"
        },
        {
          "output_type": "stream",
          "text": [
            "15000/15000 [==============================] - 2s 106us/step - loss: 1.0961e-07 - acc: 1.0000 - val_loss: 1.4525 - val_acc: 0.8700\n",
            "Epoch 37/50\n",
            "15000/15000 [==============================] - 2s 108us/step - loss: 1.0960e-07 - acc: 1.0000 - val_loss: 1.4540 - val_acc: 0.8703\n",
            "Epoch 38/50\n",
            "15000/15000 [==============================] - 2s 107us/step - loss: 1.0960e-07 - acc: 1.0000 - val_loss: 1.4551 - val_acc: 0.8703\n",
            "Epoch 39/50\n",
            "15000/15000 [==============================] - 2s 106us/step - loss: 1.0958e-07 - acc: 1.0000 - val_loss: 1.4562 - val_acc: 0.8703\n",
            "Epoch 40/50\n",
            "15000/15000 [==============================] - 2s 107us/step - loss: 1.0958e-07 - acc: 1.0000 - val_loss: 1.4568 - val_acc: 0.8701\n",
            "Epoch 41/50\n",
            "15000/15000 [==============================] - 2s 106us/step - loss: 1.0957e-07 - acc: 1.0000 - val_loss: 1.4579 - val_acc: 0.8704\n",
            "Epoch 42/50\n",
            "15000/15000 [==============================] - 2s 105us/step - loss: 1.0957e-07 - acc: 1.0000 - val_loss: 1.4589 - val_acc: 0.8705\n",
            "Epoch 43/50\n",
            "15000/15000 [==============================] - 2s 106us/step - loss: 1.0957e-07 - acc: 1.0000 - val_loss: 1.4598 - val_acc: 0.8704\n",
            "Epoch 44/50\n",
            "15000/15000 [==============================] - 2s 105us/step - loss: 1.0957e-07 - acc: 1.0000 - val_loss: 1.4606 - val_acc: 0.8705\n",
            "Epoch 45/50\n",
            " 1536/15000 [==>...........................] - ETA: 0s - loss: 1.0974e-07 - acc: 1.0000"
          ],
          "name": "stdout"
        },
        {
          "output_type": "stream",
          "text": [
            "15000/15000 [==============================] - 2s 105us/step - loss: 1.0956e-07 - acc: 1.0000 - val_loss: 1.4613 - val_acc: 0.8704\n",
            "Epoch 46/50\n",
            "15000/15000 [==============================] - 2s 105us/step - loss: 1.0956e-07 - acc: 1.0000 - val_loss: 1.4618 - val_acc: 0.8705\n",
            "Epoch 47/50\n",
            "15000/15000 [==============================] - 2s 106us/step - loss: 1.0956e-07 - acc: 1.0000 - val_loss: 1.4627 - val_acc: 0.8704\n",
            "Epoch 48/50\n",
            "15000/15000 [==============================] - 2s 106us/step - loss: 1.0956e-07 - acc: 1.0000 - val_loss: 1.4634 - val_acc: 0.8704\n",
            "Epoch 49/50\n",
            "15000/15000 [==============================] - 2s 107us/step - loss: 1.0956e-07 - acc: 1.0000 - val_loss: 1.4639 - val_acc: 0.8707\n",
            "Epoch 50/50\n",
            "15000/15000 [==============================] - 2s 106us/step - loss: 1.0955e-07 - acc: 1.0000 - val_loss: 1.4641 - val_acc: 0.8706\n"
          ],
          "name": "stdout"
        }
      ]
    },
    {
      "metadata": {
        "id": "5vhdDTczAavZ",
        "colab_type": "code",
        "colab": {
          "base_uri": "https://localhost:8080/",
          "height": 34
        },
        "outputId": "630cc909-4769-4f40-f172-2a043be3af40"
      },
      "cell_type": "code",
      "source": [
        "history_dict = history.history\n",
        "history_dict.keys()"
      ],
      "execution_count": 23,
      "outputs": [
        {
          "output_type": "execute_result",
          "data": {
            "text/plain": [
              "dict_keys(['val_loss', 'val_acc', 'loss', 'acc'])"
            ]
          },
          "metadata": {
            "tags": []
          },
          "execution_count": 23
        }
      ]
    },
    {
      "metadata": {
        "id": "TfOGml2bBPU2",
        "colab_type": "code",
        "colab": {
          "base_uri": "https://localhost:8080/",
          "height": 375
        },
        "outputId": "9ad88a2d-87aa-4421-85d6-5426a958668b"
      },
      "cell_type": "code",
      "source": [
        "import matplotlib.pyplot as plt\n",
        "\n",
        "acc = history.history['acc']\n",
        "val_acc = history.history['val_acc']\n",
        "loss = history.history['loss']\n",
        "val_loss = history.history['val_loss']\n",
        "\n",
        "epochs = range(1, len(acc) + 1)\n",
        "\n",
        "plt.plot(epochs, loss, 'bo', label='Training loss')\n",
        "\n",
        "plt.plot(epochs, val_loss, 'b', label='Validation loss')\n",
        "plt.title('Training and validation loss')\n",
        "plt.xlabel('Epochs')\n",
        "plt.ylabel('Loss')\n",
        "plt.legend()\n",
        "\n",
        "plt.show()"
      ],
      "execution_count": 24,
      "outputs": [
        {
          "output_type": "display_data",
          "data": {
            "image/png": "[encoded data removed]",
            "text/plain": [
              "<matplotlib.figure.Figure at 0x7f63f0c46c88>"
            ]
          },
          "metadata": {
            "tags": []
          }
        }
      ]
    },
    {
      "metadata": {
        "id": "gW84SkRrBXmr",
        "colab_type": "code",
        "colab": {
          "base_uri": "https://localhost:8080/",
          "height": 375
        },
        "outputId": "9c6df86a-20d4-427a-d971-39cbfc1040ab"
      },
      "cell_type": "code",
      "source": [
        "plt.clf()   # clf - clear figure\n",
        "acc_values = history_dict['acc']\n",
        "val_acc_values = history_dict['val_acc']\n",
        "\n",
        "plt.plot(epochs, acc, 'bo', label='Training acc')\n",
        "plt.plot(epochs, val_acc, 'b', label='Validation acc')\n",
        "plt.title('Training and validation accuracy')\n",
        "plt.xlabel('Epochs')\n",
        "plt.ylabel('Loss')\n",
        "plt.legend()\n",
        "\n",
        "plt.show()"
      ],
      "execution_count": 25,
      "outputs": [
        {
          "output_type": "display_data",
          "data": {
            "image/png": "[encoded data removed]",
            "text/plain": [
              "<matplotlib.figure.Figure at 0x7f63e9deae80>"
            ]
          },
          "metadata": {
            "tags": []
          }
        }
      ]
    },
    {
      "metadata": {
        "id": "kFvHnkk2BftA",
        "colab_type": "code",
        "colab": {}
      },
      "cell_type": "code",
      "source": [
        "model = models.Sequential()\n",
        "model.add(layers.Dense(16, activation='relu', input_shape=(10000,)))\n",
        "model.add(layers.Dense(16, activation='relu'))\n",
        "model.add(layers.Dense(1, activation='sigmoid'))\n"
      ],
      "execution_count": 0,
      "outputs": []
    },
    {
      "metadata": {
        "id": "naw8jZw4Bkc_",
        "colab_type": "code",
        "colab": {}
      },
      "cell_type": "code",
      "source": [
        "model.compile(optimizer='rmsprop',\n",
        "              loss='binary_crossentropy',\n",
        "              metrics=['accuracy'])\n"
      ],
      "execution_count": 0,
      "outputs": []
    },
    {
      "metadata": {
        "id": "dObbRbaNBm7m",
        "colab_type": "code",
        "colab": {
          "base_uri": "https://localhost:8080/",
          "height": 410
        },
        "outputId": "d4d28f97-a648-44e8-8c94-20bf89811e95"
      },
      "cell_type": "code",
      "source": [
        "model.fit(x_train, y_train, epochs=10, batch_size=512)\n",
        "results = model.evaluate(x_test, y_test)\n"
      ],
      "execution_count": 29,
      "outputs": [
        {
          "output_type": "stream",
          "text": [
            "Epoch 1/10\n",
            "25000/25000 [==============================] - 2s 77us/step - loss: 0.1492 - acc: 0.9482\n",
            "Epoch 2/10\n",
            "25000/25000 [==============================] - 2s 77us/step - loss: 0.1278 - acc: 0.9570\n",
            "Epoch 3/10\n",
            "25000/25000 [==============================] - 2s 78us/step - loss: 0.1141 - acc: 0.9607\n",
            "Epoch 4/10\n",
            "25000/25000 [==============================] - 2s 78us/step - loss: 0.0981 - acc: 0.9676\n",
            "Epoch 5/10\n",
            "25000/25000 [==============================] - 2s 77us/step - loss: 0.0881 - acc: 0.9707\n",
            "Epoch 6/10\n",
            "25000/25000 [==============================] - 2s 76us/step - loss: 0.0750 - acc: 0.9760\n",
            "Epoch 7/10\n",
            "25000/25000 [==============================] - 2s 77us/step - loss: 0.0667 - acc: 0.9792\n",
            "Epoch 8/10\n",
            "25000/25000 [==============================] - 2s 78us/step - loss: 0.0567 - acc: 0.9827\n",
            "Epoch 9/10\n",
            " 9728/25000 [==========>...................] - ETA: 1s - loss: 0.0392 - acc: 0.9906"
          ],
          "name": "stdout"
        },
        {
          "output_type": "stream",
          "text": [
            "25000/25000 [==============================] - 2s 76us/step - loss: 0.0467 - acc: 0.9866\n",
            "Epoch 10/10\n",
            "25000/25000 [==============================] - 2s 78us/step - loss: 0.0407 - acc: 0.9886\n",
            "25000/25000 [==============================] - 1s 58us/step\n"
          ],
          "name": "stdout"
        }
      ]
    },
    {
      "metadata": {
        "id": "p5yWUj06BpsM",
        "colab_type": "code",
        "colab": {
          "base_uri": "https://localhost:8080/",
          "height": 34
        },
        "outputId": "5b9a427b-2cdb-429e-c077-bbede7dc8c2e"
      },
      "cell_type": "code",
      "source": [
        "results          #This is not that good accuracy becuase we are just using word-vectorisation approach"
      ],
      "execution_count": 32,
      "outputs": [
        {
          "output_type": "execute_result",
          "data": {
            "text/plain": [
              "[0.5732082615303993, 0.8556]"
            ]
          },
          "metadata": {
            "tags": []
          },
          "execution_count": 32
        }
      ]
    },
    {
      "metadata": {
        "id": "FGuewSrJCFWT",
        "colab_type": "code",
        "colab": {
          "base_uri": "https://localhost:8080/",
          "height": 141
        },
        "outputId": "373b84a7-03a3-4d14-bc81-361635e36c6d"
      },
      "cell_type": "code",
      "source": [
        "model.predict(x_test)"
      ],
      "execution_count": 33,
      "outputs": [
        {
          "output_type": "execute_result",
          "data": {
            "text/plain": [
              "array([[0.17618977],\n",
              "       [0.9999976 ],\n",
              "       [0.98995787],\n",
              "       ...,\n",
              "       [0.14691037],\n",
              "       [0.03307188],\n",
              "       [0.95749426]], dtype=float32)"
            ]
          },
          "metadata": {
            "tags": []
          },
          "execution_count": 33
        }
      ]
    },
    {
      "metadata": {
        "id": "HHITpPxsCMg8",
        "colab_type": "code",
        "colab": {}
      },
      "cell_type": "code",
      "source": [
        ""
      ],
      "execution_count": 0,
      "outputs": []
    }
  ]
}