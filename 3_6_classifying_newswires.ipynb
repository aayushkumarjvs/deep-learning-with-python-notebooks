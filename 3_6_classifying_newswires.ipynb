{
  "nbformat": 4,
  "nbformat_minor": 0,
  "metadata": {
    "colab": {
      "name": "3.6-classifying-newswires.ipynb",
      "version": "0.3.2",
      "provenance": []
    },
    "kernelspec": {
      "name": "python3",
      "display_name": "Python 3"
    }
  },
  "cells": [
    {
      "cell_type": "markdown",
      "metadata": {
        "id": "view-in-github",
        "colab_type": "text"
      },
      "source": [
        "[View in Colaboratory](https://colab.research.google.com/github/aayushkumarjvs/deep-learning-with-python-notebooks/blob/master/3_6_classifying_newswires.ipynb)"
      ]
    },
    {
      "metadata": {
        "id": "qK4WjXXpCv7L",
        "colab_type": "code",
        "colab": {
          "base_uri": "https://localhost:8080/",
          "height": 52
        },
        "outputId": "428266df-b6d3-4019-96b9-93f93e2bb319"
      },
      "cell_type": "code",
      "source": [
        "#!/usr/bin/env python3 \n",
        "!pip install -q keras   # This only required for Google's Colab\n",
        "import keras\n",
        "keras.__version__"
      ],
      "execution_count": 1,
      "outputs": [
        {
          "output_type": "stream",
          "text": [
            "Using TensorFlow backend.\n"
          ],
          "name": "stderr"
        },
        {
          "output_type": "execute_result",
          "data": {
            "text/plain": [
              "'2.1.5'"
            ]
          },
          "metadata": {
            "tags": []
          },
          "execution_count": 1
        }
      ]
    },
    {
      "metadata": {
        "id": "CMabsszEC9Ck",
        "colab_type": "code",
        "colab": {
          "base_uri": "https://localhost:8080/",
          "height": 52
        },
        "outputId": "a1b39d25-64f5-4ad0-eabd-e057573dfe93"
      },
      "cell_type": "code",
      "source": [
        "from keras.datasets import reuters\n",
        "\n",
        "(train_data, train_labels), (test_data, test_labels) = reuters.load_data(num_words=10000)"
      ],
      "execution_count": 2,
      "outputs": [
        {
          "output_type": "stream",
          "text": [
            "Downloading data from https://s3.amazonaws.com/text-datasets/reuters.npz\n",
            "2113536/2110848 [==============================] - 1s 1us/step\n"
          ],
          "name": "stdout"
        }
      ]
    },
    {
      "metadata": {
        "id": "2iYfVWO9DAYG",
        "colab_type": "code",
        "colab": {
          "base_uri": "https://localhost:8080/",
          "height": 34
        },
        "outputId": "8eb3ee2c-26e2-4960-c091-0dde85529f51"
      },
      "cell_type": "code",
      "source": [
        "len(train_data)"
      ],
      "execution_count": 3,
      "outputs": [
        {
          "output_type": "execute_result",
          "data": {
            "text/plain": [
              "8982"
            ]
          },
          "metadata": {
            "tags": []
          },
          "execution_count": 3
        }
      ]
    },
    {
      "metadata": {
        "id": "aUC4nucjDCmw",
        "colab_type": "code",
        "colab": {
          "base_uri": "https://localhost:8080/",
          "height": 34
        },
        "outputId": "10736db4-ad2c-4801-e929-f31ddfc7f2cc"
      },
      "cell_type": "code",
      "source": [
        "len(test_data)"
      ],
      "execution_count": 4,
      "outputs": [
        {
          "output_type": "execute_result",
          "data": {
            "text/plain": [
              "2246"
            ]
          },
          "metadata": {
            "tags": []
          },
          "execution_count": 4
        }
      ]
    },
    {
      "metadata": {
        "id": "Lee1YIUtDGRx",
        "colab_type": "code",
        "colab": {
          "base_uri": "https://localhost:8080/",
          "height": 568
        },
        "outputId": "896c1e3c-2183-455d-b677-0efff573ffad"
      },
      "cell_type": "code",
      "source": [
        "#each example is a list of integers\n",
        "#which are also word indeces\n",
        "train_data[10]"
      ],
      "execution_count": 5,
      "outputs": [
        {
          "output_type": "execute_result",
          "data": {
            "text/plain": [
              "[1,\n",
              " 245,\n",
              " 273,\n",
              " 207,\n",
              " 156,\n",
              " 53,\n",
              " 74,\n",
              " 160,\n",
              " 26,\n",
              " 14,\n",
              " 46,\n",
              " 296,\n",
              " 26,\n",
              " 39,\n",
              " 74,\n",
              " 2979,\n",
              " 3554,\n",
              " 14,\n",
              " 46,\n",
              " 4689,\n",
              " 4329,\n",
              " 86,\n",
              " 61,\n",
              " 3499,\n",
              " 4795,\n",
              " 14,\n",
              " 61,\n",
              " 451,\n",
              " 4329,\n",
              " 17,\n",
              " 12]"
            ]
          },
          "metadata": {
            "tags": []
          },
          "execution_count": 5
        }
      ]
    },
    {
      "metadata": {
        "id": "HU_5TV50Dit9",
        "colab_type": "code",
        "colab": {
          "base_uri": "https://localhost:8080/",
          "height": 52
        },
        "outputId": "974528f6-0d1a-4d3d-ce97-5e23d5382bf5"
      },
      "cell_type": "code",
      "source": [
        "#explained this concept in the prior notebook,plese refer that if this not understood\n",
        "#the split techniques are quite import so do not skip understanding this part\n",
        "word_index = reuters.get_word_index()\n",
        "\n",
        "reverse_word_index = dict([(value, key) for (key, value) in word_index.items()])\n",
        "\n",
        "decoded_newswire = ' '.join([reverse_word_index.get(i - 3, '?') for i in train_data[0]])"
      ],
      "execution_count": 6,
      "outputs": [
        {
          "output_type": "stream",
          "text": [
            "Downloading data from https://s3.amazonaws.com/text-datasets/reuters_word_index.json\n",
            "557056/550378 [==============================] - 1s 1us/step\n"
          ],
          "name": "stdout"
        }
      ]
    },
    {
      "metadata": {
        "id": "vqQgqktbD612",
        "colab_type": "code",
        "colab": {
          "base_uri": "https://localhost:8080/",
          "height": 54
        },
        "outputId": "56f8497d-1bc3-412a-98b7-1c6a03fda7a7"
      },
      "cell_type": "code",
      "source": [
        "decoded_newswire"
      ],
      "execution_count": 7,
      "outputs": [
        {
          "output_type": "execute_result",
          "data": {
            "text/plain": [
              "'? ? ? said as a result of its december acquisition of space co it expects earnings per share in 1987 of 1 15 to 1 30 dlrs per share up from 70 cts in 1986 the company said pretax net should rise to nine to 10 mln dlrs from six mln dlrs in 1986 and rental operation revenues to 19 to 22 mln dlrs from 12 5 mln dlrs it said cash flow per share this year should be 2 50 to three dlrs reuter 3'"
            ]
          },
          "metadata": {
            "tags": []
          },
          "execution_count": 7
        }
      ]
    },
    {
      "metadata": {
        "id": "dE2gpkDyD-GY",
        "colab_type": "code",
        "colab": {
          "base_uri": "https://localhost:8080/",
          "height": 34
        },
        "outputId": "4e0d386c-b289-46ea-b622-23b3e8ac8599"
      },
      "cell_type": "code",
      "source": [
        "train_labels[10]"
      ],
      "execution_count": 8,
      "outputs": [
        {
          "output_type": "execute_result",
          "data": {
            "text/plain": [
              "3"
            ]
          },
          "metadata": {
            "tags": []
          },
          "execution_count": 8
        }
      ]
    },
    {
      "metadata": {
        "id": "p9VRL3FfEAlB",
        "colab_type": "code",
        "colab": {}
      },
      "cell_type": "code",
      "source": [
        "import numpy as np\n",
        "\n",
        "def vectorize_sequences(sequences, dimension=10000):\n",
        "    results = np.zeros((len(sequences), dimension))\n",
        "    for i, sequence in enumerate(sequences):\n",
        "        results[i, sequence] = 1.\n",
        "    return results"
      ],
      "execution_count": 0,
      "outputs": []
    },
    {
      "metadata": {
        "id": "s4AKmaG3EELE",
        "colab_type": "code",
        "colab": {}
      },
      "cell_type": "code",
      "source": [
        "# Training data\n",
        "x_train = vectorize_sequences(train_data)\n",
        "# Test data\n",
        "x_test = vectorize_sequences(test_data)"
      ],
      "execution_count": 0,
      "outputs": []
    },
    {
      "metadata": {
        "id": "qweHrwXmELn_",
        "colab_type": "code",
        "colab": {}
      },
      "cell_type": "code",
      "source": [
        "def to_one_hot(labels, dimension=46):\n",
        "    results = np.zeros((len(labels), dimension))\n",
        "    for i, label in enumerate(labels):\n",
        "        results[i, label] = 1.\n",
        "    return results\n"
      ],
      "execution_count": 0,
      "outputs": []
    },
    {
      "metadata": {
        "id": "GnGJC8-mEP5r",
        "colab_type": "code",
        "colab": {}
      },
      "cell_type": "code",
      "source": [
        "# Vectorized training labels\n",
        "one_hot_train_labels = to_one_hot(train_labels)\n",
        "# Vectorized test labels\n",
        "one_hot_test_labels = to_one_hot(test_labels)"
      ],
      "execution_count": 0,
      "outputs": []
    },
    {
      "metadata": {
        "id": "0y6q-7KGEZEc",
        "colab_type": "code",
        "colab": {}
      },
      "cell_type": "code",
      "source": [
        "from keras.utils.np_utils import to_categorical\n",
        "\n",
        "one_hot_train_labels = to_categorical(train_labels)\n",
        "one_hot_test_labels = to_categorical(test_labels)"
      ],
      "execution_count": 0,
      "outputs": []
    },
    {
      "metadata": {
        "id": "W2KN1RVTEb_l",
        "colab_type": "code",
        "colab": {}
      },
      "cell_type": "code",
      "source": [
        "from keras import models\n",
        "from keras import layers\n",
        "\n",
        "model = models.Sequential()\n",
        "model.add(layers.Dense(64, activation='relu', input_shape=(10000,)))\n",
        "model.add(layers.Dense(64, activation='relu'))\n",
        "model.add(layers.Dense(46, activation='softmax'))"
      ],
      "execution_count": 0,
      "outputs": []
    },
    {
      "metadata": {
        "id": "KeT9JeeZEfTs",
        "colab_type": "code",
        "colab": {}
      },
      "cell_type": "code",
      "source": [
        "model.compile(optimizer='rmsprop',\n",
        "              loss='categorical_crossentropy',\n",
        "              metrics=['accuracy'])"
      ],
      "execution_count": 0,
      "outputs": []
    },
    {
      "metadata": {
        "id": "RpKCwo17EjPB",
        "colab_type": "code",
        "colab": {}
      },
      "cell_type": "code",
      "source": [
        "# Validating our method down\n",
        "x_val = x_train[:1000]\n",
        "partial_x_train = x_train[1000:]"
      ],
      "execution_count": 0,
      "outputs": []
    },
    {
      "metadata": {
        "id": "jh2TNKUVErZa",
        "colab_type": "code",
        "colab": {}
      },
      "cell_type": "code",
      "source": [
        "y_val = one_hot_train_labels[:1000]\n",
        "partial_y_train = one_hot_train_labels[1000:]"
      ],
      "execution_count": 0,
      "outputs": []
    },
    {
      "metadata": {
        "id": "D5mxgd-wEt4J",
        "colab_type": "code",
        "colab": {
          "base_uri": "https://localhost:8080/",
          "height": 1832
        },
        "outputId": "94ec8081-4caa-4b53-beb8-40858efa3d52"
      },
      "cell_type": "code",
      "source": [
        "history = model.fit(partial_x_train,\n",
        "                    partial_y_train,\n",
        "                    epochs=50,\n",
        "                    batch_size=128,\n",
        "                    validation_data=(x_val, y_val))"
      ],
      "execution_count": 18,
      "outputs": [
        {
          "output_type": "stream",
          "text": [
            "Train on 7982 samples, validate on 1000 samples\n",
            "Epoch 1/50\n",
            "7982/7982 [==============================] - 1s 152us/step - loss: 1.8327 - acc: 0.5993 - val_loss: 1.2674 - val_acc: 0.7230\n",
            "Epoch 2/50\n",
            "7982/7982 [==============================] - 1s 148us/step - loss: 0.9979 - acc: 0.7813 - val_loss: 1.0244 - val_acc: 0.7840\n",
            "Epoch 3/50\n",
            "7982/7982 [==============================] - 1s 167us/step - loss: 0.6780 - acc: 0.8492 - val_loss: 0.9553 - val_acc: 0.7910\n",
            "Epoch 4/50\n",
            "7982/7982 [==============================] - 1s 167us/step - loss: 0.4716 - acc: 0.8963 - val_loss: 0.8769 - val_acc: 0.8170\n",
            "Epoch 5/50\n",
            "7982/7982 [==============================] - 1s 168us/step - loss: 0.3360 - acc: 0.9247 - val_loss: 0.8632 - val_acc: 0.8280\n",
            "Epoch 6/50\n",
            "7982/7982 [==============================] - 1s 166us/step - loss: 0.2611 - acc: 0.9400 - val_loss: 0.9529 - val_acc: 0.8090\n",
            "Epoch 7/50\n",
            "7982/7982 [==============================] - 1s 165us/step - loss: 0.2126 - acc: 0.9473 - val_loss: 0.9428 - val_acc: 0.8220\n",
            "Epoch 8/50\n",
            "4608/7982 [================>.............] - ETA: 0s - loss: 0.1679 - acc: 0.9557"
          ],
          "name": "stdout"
        },
        {
          "output_type": "stream",
          "text": [
            "7982/7982 [==============================] - 1s 168us/step - loss: 0.1841 - acc: 0.9526 - val_loss: 1.1827 - val_acc: 0.7650\n",
            "Epoch 9/50\n",
            "7982/7982 [==============================] - 1s 165us/step - loss: 0.1611 - acc: 0.9545 - val_loss: 1.0149 - val_acc: 0.8110\n",
            "Epoch 10/50\n",
            "7982/7982 [==============================] - 1s 166us/step - loss: 0.1482 - acc: 0.9555 - val_loss: 1.0959 - val_acc: 0.8020\n",
            "Epoch 11/50\n",
            "7982/7982 [==============================] - 1s 166us/step - loss: 0.1429 - acc: 0.9555 - val_loss: 1.0654 - val_acc: 0.8160\n",
            "Epoch 12/50\n",
            "7982/7982 [==============================] - 1s 166us/step - loss: 0.1335 - acc: 0.9558 - val_loss: 1.0594 - val_acc: 0.8100\n",
            "Epoch 13/50\n",
            "7982/7982 [==============================] - 1s 162us/step - loss: 0.1304 - acc: 0.9559 - val_loss: 1.1259 - val_acc: 0.8030\n",
            "Epoch 14/50\n",
            "7982/7982 [==============================] - 1s 166us/step - loss: 0.1253 - acc: 0.9554 - val_loss: 1.0978 - val_acc: 0.8060\n",
            "Epoch 15/50\n",
            "7982/7982 [==============================] - 1s 164us/step - loss: 0.1156 - acc: 0.9580 - val_loss: 1.1448 - val_acc: 0.8080\n",
            "Epoch 16/50\n",
            " 128/7982 [..............................] - ETA: 1s - loss: 0.1695 - acc: 0.9453"
          ],
          "name": "stdout"
        },
        {
          "output_type": "stream",
          "text": [
            "7982/7982 [==============================] - 1s 163us/step - loss: 0.1176 - acc: 0.9572 - val_loss: 1.2137 - val_acc: 0.8000\n",
            "Epoch 17/50\n",
            "7982/7982 [==============================] - 1s 165us/step - loss: 0.1137 - acc: 0.9589 - val_loss: 1.1924 - val_acc: 0.7910\n",
            "Epoch 18/50\n",
            "7982/7982 [==============================] - 1s 165us/step - loss: 0.1130 - acc: 0.9570 - val_loss: 1.2109 - val_acc: 0.7990\n",
            "Epoch 19/50\n",
            "7982/7982 [==============================] - 1s 165us/step - loss: 0.1107 - acc: 0.9582 - val_loss: 1.2539 - val_acc: 0.8020\n",
            "Epoch 20/50\n",
            "7982/7982 [==============================] - 1s 165us/step - loss: 0.1034 - acc: 0.9590 - val_loss: 1.2062 - val_acc: 0.7930\n",
            "Epoch 21/50\n",
            "7982/7982 [==============================] - 1s 166us/step - loss: 0.1045 - acc: 0.9572 - val_loss: 1.2567 - val_acc: 0.7930\n",
            "Epoch 22/50\n",
            "7982/7982 [==============================] - 1s 165us/step - loss: 0.1033 - acc: 0.9563 - val_loss: 1.2524 - val_acc: 0.7920\n",
            "Epoch 23/50\n",
            "7982/7982 [==============================] - 1s 164us/step - loss: 0.0983 - acc: 0.9592 - val_loss: 1.2687 - val_acc: 0.7930\n"
          ],
          "name": "stdout"
        },
        {
          "output_type": "stream",
          "text": [
            "Epoch 24/50\n",
            "7982/7982 [==============================] - 1s 166us/step - loss: 0.0987 - acc: 0.9568 - val_loss: 1.3369 - val_acc: 0.7820\n",
            "Epoch 25/50\n",
            "7982/7982 [==============================] - 1s 164us/step - loss: 0.0975 - acc: 0.9575 - val_loss: 1.3083 - val_acc: 0.7780\n",
            "Epoch 26/50\n",
            "7982/7982 [==============================] - 1s 164us/step - loss: 0.0921 - acc: 0.9592 - val_loss: 1.3203 - val_acc: 0.7870\n",
            "Epoch 27/50\n",
            "7982/7982 [==============================] - 1s 165us/step - loss: 0.0942 - acc: 0.9580 - val_loss: 1.3312 - val_acc: 0.7870\n",
            "Epoch 28/50\n",
            "7982/7982 [==============================] - 1s 164us/step - loss: 0.0916 - acc: 0.9562 - val_loss: 1.3885 - val_acc: 0.7760\n",
            "Epoch 29/50\n",
            "7982/7982 [==============================] - 1s 166us/step - loss: 0.0901 - acc: 0.9575 - val_loss: 1.3458 - val_acc: 0.7950\n",
            "Epoch 30/50\n",
            "7982/7982 [==============================] - 1s 164us/step - loss: 0.0889 - acc: 0.9565 - val_loss: 1.4853 - val_acc: 0.7810\n",
            "Epoch 31/50\n",
            "7424/7982 [==========================>...] - ETA: 0s - loss: 0.0861 - acc: 0.9585"
          ],
          "name": "stdout"
        },
        {
          "output_type": "stream",
          "text": [
            "7982/7982 [==============================] - 1s 168us/step - loss: 0.0869 - acc: 0.9580 - val_loss: 1.3914 - val_acc: 0.7920\n",
            "Epoch 32/50\n",
            "7982/7982 [==============================] - 1s 165us/step - loss: 0.0846 - acc: 0.9563 - val_loss: 1.4596 - val_acc: 0.7830\n",
            "Epoch 33/50\n",
            "7982/7982 [==============================] - 1s 167us/step - loss: 0.0842 - acc: 0.9584 - val_loss: 1.4679 - val_acc: 0.7910\n",
            "Epoch 34/50\n",
            "7982/7982 [==============================] - 1s 164us/step - loss: 0.0824 - acc: 0.9587 - val_loss: 1.4883 - val_acc: 0.7840\n",
            "Epoch 35/50\n",
            "7982/7982 [==============================] - 1s 165us/step - loss: 0.0811 - acc: 0.9582 - val_loss: 1.5254 - val_acc: 0.7900\n",
            "Epoch 36/50\n",
            "7982/7982 [==============================] - 1s 166us/step - loss: 0.0794 - acc: 0.9594 - val_loss: 1.5667 - val_acc: 0.7790\n",
            "Epoch 37/50\n",
            "7982/7982 [==============================] - 1s 170us/step - loss: 0.0815 - acc: 0.9589 - val_loss: 1.5710 - val_acc: 0.7800\n",
            "Epoch 38/50\n",
            "7982/7982 [==============================] - 1s 164us/step - loss: 0.0769 - acc: 0.9575 - val_loss: 1.5539 - val_acc: 0.7810\n",
            "Epoch 39/50\n",
            " 128/7982 [..............................] - ETA: 1s - loss: 0.0543 - acc: 0.9688"
          ],
          "name": "stdout"
        },
        {
          "output_type": "stream",
          "text": [
            "7982/7982 [==============================] - 1s 166us/step - loss: 0.0759 - acc: 0.9590 - val_loss: 1.6319 - val_acc: 0.7800\n",
            "Epoch 40/50\n",
            "7982/7982 [==============================] - 1s 163us/step - loss: 0.0769 - acc: 0.9580 - val_loss: 1.6711 - val_acc: 0.7710\n",
            "Epoch 41/50\n",
            "7982/7982 [==============================] - 1s 165us/step - loss: 0.0745 - acc: 0.9584 - val_loss: 1.6593 - val_acc: 0.7730\n",
            "Epoch 42/50\n",
            "7982/7982 [==============================] - 1s 165us/step - loss: 0.0752 - acc: 0.9598 - val_loss: 1.6710 - val_acc: 0.7740\n",
            "Epoch 43/50\n",
            "7982/7982 [==============================] - 1s 161us/step - loss: 0.0729 - acc: 0.9584 - val_loss: 1.7395 - val_acc: 0.7760\n",
            "Epoch 44/50\n",
            "7982/7982 [==============================] - 1s 164us/step - loss: 0.0736 - acc: 0.9579 - val_loss: 1.7591 - val_acc: 0.7720\n",
            "Epoch 45/50\n",
            "7982/7982 [==============================] - 1s 163us/step - loss: 0.0716 - acc: 0.9592 - val_loss: 1.8074 - val_acc: 0.7710\n",
            "Epoch 46/50\n",
            "7808/7982 [============================>.] - ETA: 0s - loss: 0.0701 - acc: 0.9613"
          ],
          "name": "stdout"
        },
        {
          "output_type": "stream",
          "text": [
            "7982/7982 [==============================] - 1s 172us/step - loss: 0.0711 - acc: 0.9608 - val_loss: 1.7472 - val_acc: 0.7780\n",
            "Epoch 47/50\n",
            "7982/7982 [==============================] - 1s 163us/step - loss: 0.0701 - acc: 0.9577 - val_loss: 1.7508 - val_acc: 0.7690\n",
            "Epoch 48/50\n",
            "7982/7982 [==============================] - 1s 163us/step - loss: 0.0703 - acc: 0.9585 - val_loss: 1.8554 - val_acc: 0.7780\n",
            "Epoch 49/50\n",
            "7982/7982 [==============================] - 1s 163us/step - loss: 0.0696 - acc: 0.9588 - val_loss: 1.8330 - val_acc: 0.7710\n",
            "Epoch 50/50\n",
            "7982/7982 [==============================] - 1s 166us/step - loss: 0.0681 - acc: 0.9607 - val_loss: 1.8246 - val_acc: 0.7700\n"
          ],
          "name": "stdout"
        }
      ]
    },
    {
      "metadata": {
        "id": "Z3Xt90BLE1UL",
        "colab_type": "code",
        "colab": {
          "base_uri": "https://localhost:8080/",
          "height": 375
        },
        "outputId": "52402414-21c6-40f2-cfae-7d4fcfc9aa94"
      },
      "cell_type": "code",
      "source": [
        "import matplotlib.pyplot as plt\n",
        "\n",
        "loss = history.history['loss']\n",
        "val_loss = history.history['val_loss']\n",
        "\n",
        "epochs = range(1, len(loss) + 1)\n",
        "\n",
        "plt.plot(epochs, loss, 'bo', label='Training loss')\n",
        "plt.plot(epochs, val_loss, 'b', label='Validation loss')\n",
        "plt.title('Training and validation loss')\n",
        "plt.xlabel('Epochs')\n",
        "plt.ylabel('Loss')\n",
        "plt.legend()\n",
        "\n",
        "plt.show()"
      ],
      "execution_count": 19,
      "outputs": [
        {
          "output_type": "display_data",
          "data": {
            "image/png": "[encoded data removed]",
            "text/plain": [
              "<matplotlib.figure.Figure at 0x7f9cf46feb00>"
            ]
          },
          "metadata": {
            "tags": []
          }
        }
      ]
    },
    {
      "metadata": {
        "id": "3MhhBlouFpwF",
        "colab_type": "code",
        "colab": {
          "base_uri": "https://localhost:8080/",
          "height": 375
        },
        "outputId": "531f7fd4-7d1e-4ab2-d9b6-69152fad9235"
      },
      "cell_type": "code",
      "source": [
        "plt.clf()   # clf-clear figure\n",
        "\n",
        "acc = history.history['acc']\n",
        "val_acc = history.history['val_acc']\n",
        "\n",
        "plt.plot(epochs, acc, 'bo', label='Training acc')\n",
        "plt.plot(epochs, val_acc, 'b', label='Validation acc')\n",
        "plt.title('Training and validation accuracy')\n",
        "plt.xlabel('Epochs')\n",
        "plt.ylabel('Loss')\n",
        "plt.legend()\n",
        "\n",
        "plt.show()"
      ],
      "execution_count": 20,
      "outputs": [
        {
          "output_type": "display_data",
          "data": {
            "image/png": "[encoded data removed]",
            "text/plain": [
              "<matplotlib.figure.Figure at 0x7f9cf483deb8>"
            ]
          },
          "metadata": {
            "tags": []
          }
        }
      ]
    },
    {
      "metadata": {
        "id": "wempbWRDFuPH",
        "colab_type": "code",
        "colab": {}
      },
      "cell_type": "code",
      "source": [
        "model = models.Sequential()\n",
        "model.add(layers.Dense(64, activation='relu', input_shape=(10000,)))\n",
        "model.add(layers.Dense(64, activation='relu'))\n",
        "model.add(layers.Dense(46, activation='softmax'))\n"
      ],
      "execution_count": 0,
      "outputs": []
    },
    {
      "metadata": {
        "id": "xur28Ls_Fx_X",
        "colab_type": "code",
        "colab": {}
      },
      "cell_type": "code",
      "source": [
        "model.compile(optimizer='rmsprop',\n",
        "              loss='categorical_crossentropy',\n",
        "              metrics=['accuracy'])"
      ],
      "execution_count": 0,
      "outputs": []
    },
    {
      "metadata": {
        "id": "AbOwBCfMF0r7",
        "colab_type": "code",
        "colab": {
          "base_uri": "https://localhost:8080/",
          "height": 428
        },
        "outputId": "98bf57ca-c61c-4110-e0ff-e81d938981d3"
      },
      "cell_type": "code",
      "source": [
        "model.fit(partial_x_train,\n",
        "          partial_y_train,\n",
        "          epochs=10,\n",
        "          batch_size=128,\n",
        "          validation_data=(x_val, y_val))"
      ],
      "execution_count": 23,
      "outputs": [
        {
          "output_type": "stream",
          "text": [
            "Train on 7982 samples, validate on 1000 samples\n",
            "Epoch 1/10\n",
            "7982/7982 [==============================] - 1s 165us/step - loss: 1.7572 - acc: 0.6282 - val_loss: 1.2015 - val_acc: 0.7340\n",
            "Epoch 2/10\n",
            "7982/7982 [==============================] - 1s 142us/step - loss: 0.9382 - acc: 0.7927 - val_loss: 0.9895 - val_acc: 0.7890\n",
            "Epoch 3/10\n",
            "7982/7982 [==============================] - 1s 176us/step - loss: 0.6304 - acc: 0.8612 - val_loss: 0.9629 - val_acc: 0.7880\n",
            "Epoch 4/10\n",
            "7982/7982 [==============================] - 1s 183us/step - loss: 0.4366 - acc: 0.9050 - val_loss: 0.9340 - val_acc: 0.8070\n",
            "Epoch 5/10\n",
            "7982/7982 [==============================] - 1s 180us/step - loss: 0.3180 - acc: 0.9315 - val_loss: 0.8907 - val_acc: 0.8270\n",
            "Epoch 6/10\n",
            "7982/7982 [==============================] - 1s 173us/step - loss: 0.2466 - acc: 0.9399 - val_loss: 0.9219 - val_acc: 0.8180\n",
            "Epoch 7/10\n",
            "7982/7982 [==============================] - 1s 178us/step - loss: 0.2069 - acc: 0.9500 - val_loss: 0.9473 - val_acc: 0.8140\n",
            "Epoch 8/10\n",
            "3968/7982 [=============>................] - ETA: 0s - loss: 0.1593 - acc: 0.9572"
          ],
          "name": "stdout"
        },
        {
          "output_type": "stream",
          "text": [
            "7982/7982 [==============================] - 1s 179us/step - loss: 0.1808 - acc: 0.9523 - val_loss: 1.0622 - val_acc: 0.8000\n",
            "Epoch 9/10\n",
            "7982/7982 [==============================] - 1s 178us/step - loss: 0.1637 - acc: 0.9538 - val_loss: 1.0966 - val_acc: 0.7980\n",
            "Epoch 10/10\n",
            "7982/7982 [==============================] - 1s 176us/step - loss: 0.1537 - acc: 0.9548 - val_loss: 1.0312 - val_acc: 0.8090\n"
          ],
          "name": "stdout"
        },
        {
          "output_type": "execute_result",
          "data": {
            "text/plain": [
              "<keras.callbacks.History at 0x7f9cf4a60d68>"
            ]
          },
          "metadata": {
            "tags": []
          },
          "execution_count": 23
        }
      ]
    },
    {
      "metadata": {
        "id": "UEQZ3Q8rGZkl",
        "colab_type": "code",
        "colab": {
          "base_uri": "https://localhost:8080/",
          "height": 34
        },
        "outputId": "386430d8-8920-4f47-9d35-2bb70db5b5e0"
      },
      "cell_type": "code",
      "source": [
        "results = model.evaluate(x_test, one_hot_test_labels)\n"
      ],
      "execution_count": 27,
      "outputs": [
        {
          "output_type": "stream",
          "text": [
            "2246/2246 [==============================] - 0s 117us/step\n"
          ],
          "name": "stdout"
        }
      ]
    },
    {
      "metadata": {
        "id": "Nb5ZNvQ8Ga33",
        "colab_type": "code",
        "colab": {
          "base_uri": "https://localhost:8080/",
          "height": 34
        },
        "outputId": "f3626299-c63e-451b-87fb-993d2d23df32"
      },
      "cell_type": "code",
      "source": [
        "results"
      ],
      "execution_count": 28,
      "outputs": [
        {
          "output_type": "execute_result",
          "data": {
            "text/plain": [
              "[1.1318487624238882, 0.7894033837934105]"
            ]
          },
          "metadata": {
            "tags": []
          },
          "execution_count": 28
        }
      ]
    },
    {
      "metadata": {
        "id": "_1HrgpZ7Gp4t",
        "colab_type": "text"
      },
      "cell_type": "markdown",
      "source": [
        "Our approach reaches an accuracy of ~79%. With a balanced binary classification problem, the accuracy reached by a purely random classifier would be 50%, but in our case it is closer to 19%, so our results seem pretty good, at least when compared to a random baseline:"
      ]
    },
    {
      "metadata": {
        "id": "cQWspAYSGsW3",
        "colab_type": "code",
        "colab": {
          "base_uri": "https://localhost:8080/",
          "height": 34
        },
        "outputId": "e6227784-402d-4b81-e0e1-f29c513c04a1"
      },
      "cell_type": "code",
      "source": [
        "import copy\n",
        "\n",
        "test_labels_copy = copy.copy(test_labels)\n",
        "np.random.shuffle(test_labels_copy)\n",
        "float(np.sum(np.array(test_labels) == np.array(test_labels_copy))) / len(test_labels)"
      ],
      "execution_count": 29,
      "outputs": [
        {
          "output_type": "execute_result",
          "data": {
            "text/plain": [
              "0.18833481745325023"
            ]
          },
          "metadata": {
            "tags": []
          },
          "execution_count": 29
        }
      ]
    },
    {
      "metadata": {
        "id": "wT24FDhtG8Xc",
        "colab_type": "text"
      },
      "cell_type": "markdown",
      "source": [
        "**GENERATING PREDICTIONS ON NEW DATA**"
      ]
    },
    {
      "metadata": {
        "id": "1DD1kSm2HDyn",
        "colab_type": "code",
        "colab": {}
      },
      "cell_type": "code",
      "source": [
        "predictions = model.predict(x_test)"
      ],
      "execution_count": 0,
      "outputs": []
    },
    {
      "metadata": {
        "id": "PqEzZ2QxHGXT",
        "colab_type": "code",
        "colab": {
          "base_uri": "https://localhost:8080/",
          "height": 34
        },
        "outputId": "6088185d-d2cf-4f2f-9f75-b826b6005c5a"
      },
      "cell_type": "code",
      "source": [
        "predictions[0].shape"
      ],
      "execution_count": 31,
      "outputs": [
        {
          "output_type": "execute_result",
          "data": {
            "text/plain": [
              "(46,)"
            ]
          },
          "metadata": {
            "tags": []
          },
          "execution_count": 31
        }
      ]
    },
    {
      "metadata": {
        "id": "E9k9v6uHHKyI",
        "colab_type": "code",
        "colab": {
          "base_uri": "https://localhost:8080/",
          "height": 34
        },
        "outputId": "fbfed23c-4e50-465d-84f5-a3143791dbb5"
      },
      "cell_type": "code",
      "source": [
        "np.sum(predictions[0])"
      ],
      "execution_count": 32,
      "outputs": [
        {
          "output_type": "execute_result",
          "data": {
            "text/plain": [
              "0.99999994"
            ]
          },
          "metadata": {
            "tags": []
          },
          "execution_count": 32
        }
      ]
    },
    {
      "metadata": {
        "id": "TTzYT97FHOo3",
        "colab_type": "code",
        "colab": {
          "base_uri": "https://localhost:8080/",
          "height": 34
        },
        "outputId": "c22008c9-22c2-4c24-bd5c-84e54e05b8b1"
      },
      "cell_type": "code",
      "source": [
        "#Largest entry in a pre-trained class,that is class with heighest probal=bility\n",
        "np.argmax(predictions[0])"
      ],
      "execution_count": 33,
      "outputs": [
        {
          "output_type": "execute_result",
          "data": {
            "text/plain": [
              "3"
            ]
          },
          "metadata": {
            "tags": []
          },
          "execution_count": 33
        }
      ]
    },
    {
      "metadata": {
        "id": "lMVIiO_uHkNk",
        "colab_type": "code",
        "colab": {}
      },
      "cell_type": "code",
      "source": [
        "y_train = np.array(train_labels)\n",
        "y_test = np.array(test_labels)\n"
      ],
      "execution_count": 0,
      "outputs": []
    },
    {
      "metadata": {
        "id": "xWUcDGg2Ho9n",
        "colab_type": "code",
        "colab": {}
      },
      "cell_type": "code",
      "source": [
        "model.compile(optimizer='rmsprop', loss='sparse_categorical_crossentropy', metrics=['acc'])"
      ],
      "execution_count": 0,
      "outputs": []
    },
    {
      "metadata": {
        "id": "g8RpSpjiHxvo",
        "colab_type": "text"
      },
      "cell_type": "markdown",
      "source": [
        "*On the importance of having sufficiently large intermediate layers*\n",
        "We mentioned earlier that since our final outputs were 46-dimensional, we should avoid intermediate layers with much less than 46 hidden units. Now let's try to see what happens when we introduce an information bottleneck by having intermediate layers significantly less than 46-dimensional, e.g. 4-dimensional.\n",
        "\n",
        "\n"
      ]
    },
    {
      "metadata": {
        "id": "GgQpLI-xH7D6",
        "colab_type": "code",
        "colab": {}
      },
      "cell_type": "code",
      "source": [
        "model = models.Sequential()\n",
        "model.add(layers.Dense(64, activation='relu', input_shape=(10000,)))\n",
        "model.add(layers.Dense(4, activation='relu'))\n",
        "model.add(layers.Dense(46, activation='softmax'))\n"
      ],
      "execution_count": 0,
      "outputs": []
    },
    {
      "metadata": {
        "id": "EybNWDQYIA8D",
        "colab_type": "code",
        "colab": {}
      },
      "cell_type": "code",
      "source": [
        "model.compile(optimizer='rmsprop',\n",
        "              loss='categorical_crossentropy',\n",
        "              metrics=['accuracy'])"
      ],
      "execution_count": 0,
      "outputs": []
    },
    {
      "metadata": {
        "id": "NB9AhEM0IEow",
        "colab_type": "code",
        "colab": {
          "base_uri": "https://localhost:8080/",
          "height": 1850
        },
        "outputId": "81570701-4d07-4134-ed63-6a59e57c1acc"
      },
      "cell_type": "code",
      "source": [
        "model.fit(partial_x_train,\n",
        "          partial_y_train,\n",
        "          epochs=50,\n",
        "          batch_size=128,\n",
        "          validation_data=(x_val, y_val))"
      ],
      "execution_count": 39,
      "outputs": [
        {
          "output_type": "stream",
          "text": [
            "Train on 7982 samples, validate on 1000 samples\n",
            "Epoch 1/50\n",
            "7982/7982 [==============================] - 2s 207us/step - loss: 2.7161 - acc: 0.3668 - val_loss: 2.0216 - val_acc: 0.5760\n",
            "Epoch 2/50\n",
            "7982/7982 [==============================] - 1s 164us/step - loss: 1.6867 - acc: 0.6357 - val_loss: 1.4812 - val_acc: 0.6640\n",
            "Epoch 3/50\n",
            "7982/7982 [==============================] - 1s 186us/step - loss: 1.2862 - acc: 0.6982 - val_loss: 1.3193 - val_acc: 0.7080\n",
            "Epoch 4/50\n",
            "7982/7982 [==============================] - 1s 182us/step - loss: 1.0939 - acc: 0.7488 - val_loss: 1.2916 - val_acc: 0.7090\n",
            "Epoch 5/50\n",
            "7982/7982 [==============================] - 1s 166us/step - loss: 0.9637 - acc: 0.7771 - val_loss: 1.2279 - val_acc: 0.7230\n",
            "Epoch 6/50\n",
            "7982/7982 [==============================] - 1s 170us/step - loss: 0.8656 - acc: 0.7937 - val_loss: 1.2309 - val_acc: 0.7310\n",
            "Epoch 7/50\n",
            "7982/7982 [==============================] - 1s 169us/step - loss: 0.7882 - acc: 0.8047 - val_loss: 1.2367 - val_acc: 0.7270\n",
            "Epoch 8/50\n",
            "4352/7982 [===============>..............] - ETA: 0s - loss: 0.7201 - acc: 0.8159"
          ],
          "name": "stdout"
        },
        {
          "output_type": "stream",
          "text": [
            "7982/7982 [==============================] - 1s 168us/step - loss: 0.7252 - acc: 0.8153 - val_loss: 1.2371 - val_acc: 0.7290\n",
            "Epoch 9/50\n",
            "7982/7982 [==============================] - 1s 167us/step - loss: 0.6726 - acc: 0.8220 - val_loss: 1.2682 - val_acc: 0.7280\n",
            "Epoch 10/50\n",
            "7982/7982 [==============================] - 1s 166us/step - loss: 0.6276 - acc: 0.8262 - val_loss: 1.2807 - val_acc: 0.7260\n",
            "Epoch 11/50\n",
            "7982/7982 [==============================] - 1s 170us/step - loss: 0.5865 - acc: 0.8355 - val_loss: 1.3057 - val_acc: 0.7240\n",
            "Epoch 12/50\n",
            "7982/7982 [==============================] - 1s 173us/step - loss: 0.5520 - acc: 0.8448 - val_loss: 1.3393 - val_acc: 0.7310\n",
            "Epoch 13/50\n",
            "7982/7982 [==============================] - 1s 168us/step - loss: 0.5190 - acc: 0.8559 - val_loss: 1.3782 - val_acc: 0.7280\n",
            "Epoch 14/50\n",
            "7982/7982 [==============================] - 1s 178us/step - loss: 0.4914 - acc: 0.8651 - val_loss: 1.4428 - val_acc: 0.7160\n",
            "Epoch 15/50\n",
            "7982/7982 [==============================] - 1s 186us/step - loss: 0.4663 - acc: 0.8794 - val_loss: 1.4640 - val_acc: 0.7240\n"
          ],
          "name": "stdout"
        },
        {
          "output_type": "stream",
          "text": [
            "Epoch 16/50\n",
            "7982/7982 [==============================] - 2s 191us/step - loss: 0.4461 - acc: 0.8844 - val_loss: 1.4999 - val_acc: 0.7210\n",
            "Epoch 17/50\n",
            "7982/7982 [==============================] - 2s 188us/step - loss: 0.4258 - acc: 0.8905 - val_loss: 1.5728 - val_acc: 0.7180\n",
            "Epoch 18/50\n",
            "7982/7982 [==============================] - 1s 173us/step - loss: 0.4080 - acc: 0.8961 - val_loss: 1.6048 - val_acc: 0.7200\n",
            "Epoch 19/50\n",
            "7982/7982 [==============================] - 1s 187us/step - loss: 0.3924 - acc: 0.8985 - val_loss: 1.6527 - val_acc: 0.7120\n",
            "Epoch 20/50\n",
            "7982/7982 [==============================] - 1s 186us/step - loss: 0.3779 - acc: 0.9045 - val_loss: 1.7054 - val_acc: 0.7150\n",
            "Epoch 21/50\n",
            "7982/7982 [==============================] - 1s 183us/step - loss: 0.3650 - acc: 0.9070 - val_loss: 1.7591 - val_acc: 0.7080\n",
            "Epoch 22/50\n",
            "7982/7982 [==============================] - 1s 171us/step - loss: 0.3513 - acc: 0.9108 - val_loss: 1.7621 - val_acc: 0.7120\n",
            "Epoch 23/50\n",
            "5504/7982 [===================>..........] - ETA: 0s - loss: 0.3294 - acc: 0.9128"
          ],
          "name": "stdout"
        },
        {
          "output_type": "stream",
          "text": [
            "7982/7982 [==============================] - 1s 171us/step - loss: 0.3425 - acc: 0.9109 - val_loss: 1.8277 - val_acc: 0.7080\n",
            "Epoch 24/50\n",
            "7982/7982 [==============================] - 1s 165us/step - loss: 0.3319 - acc: 0.9141 - val_loss: 1.8904 - val_acc: 0.7110\n",
            "Epoch 25/50\n",
            "7982/7982 [==============================] - 1s 170us/step - loss: 0.3208 - acc: 0.9163 - val_loss: 1.9069 - val_acc: 0.7070\n",
            "Epoch 26/50\n",
            "7982/7982 [==============================] - 1s 167us/step - loss: 0.3137 - acc: 0.9177 - val_loss: 1.9649 - val_acc: 0.7060\n",
            "Epoch 27/50\n",
            "7982/7982 [==============================] - 1s 166us/step - loss: 0.3004 - acc: 0.9221 - val_loss: 2.0145 - val_acc: 0.6990\n",
            "Epoch 28/50\n",
            "7982/7982 [==============================] - 1s 165us/step - loss: 0.2958 - acc: 0.9236 - val_loss: 1.9998 - val_acc: 0.7160\n",
            "Epoch 29/50\n",
            "7982/7982 [==============================] - 1s 168us/step - loss: 0.2897 - acc: 0.9214 - val_loss: 2.0497 - val_acc: 0.7060\n",
            "Epoch 30/50\n",
            "7982/7982 [==============================] - 1s 168us/step - loss: 0.2843 - acc: 0.9252 - val_loss: 2.0901 - val_acc: 0.7030\n",
            "Epoch 31/50\n",
            " 128/7982 [..............................] - ETA: 1s - loss: 0.2035 - acc: 0.9375"
          ],
          "name": "stdout"
        },
        {
          "output_type": "stream",
          "text": [
            "7982/7982 [==============================] - 1s 168us/step - loss: 0.2796 - acc: 0.9255 - val_loss: 2.1073 - val_acc: 0.7030\n",
            "Epoch 32/50\n",
            "7982/7982 [==============================] - 1s 171us/step - loss: 0.2695 - acc: 0.9272 - val_loss: 2.1294 - val_acc: 0.7030\n",
            "Epoch 33/50\n",
            "7982/7982 [==============================] - 1s 171us/step - loss: 0.2663 - acc: 0.9290 - val_loss: 2.1583 - val_acc: 0.7050\n",
            "Epoch 34/50\n",
            "7982/7982 [==============================] - 1s 169us/step - loss: 0.2631 - acc: 0.9301 - val_loss: 2.2400 - val_acc: 0.7060\n",
            "Epoch 35/50\n",
            "7982/7982 [==============================] - 1s 169us/step - loss: 0.2559 - acc: 0.9323 - val_loss: 2.2296 - val_acc: 0.7050\n",
            "Epoch 36/50\n",
            "7982/7982 [==============================] - 1s 169us/step - loss: 0.2531 - acc: 0.9332 - val_loss: 2.2869 - val_acc: 0.7000\n",
            "Epoch 37/50\n",
            "7982/7982 [==============================] - 1s 174us/step - loss: 0.2500 - acc: 0.9337 - val_loss: 2.2930 - val_acc: 0.6950\n",
            "Epoch 38/50\n",
            "7808/7982 [============================>.] - ETA: 0s - loss: 0.2475 - acc: 0.9330"
          ],
          "name": "stdout"
        },
        {
          "output_type": "stream",
          "text": [
            "7982/7982 [==============================] - 1s 176us/step - loss: 0.2468 - acc: 0.9332 - val_loss: 2.2898 - val_acc: 0.7000\n",
            "Epoch 39/50\n",
            "7982/7982 [==============================] - 1s 180us/step - loss: 0.2426 - acc: 0.9365 - val_loss: 2.3462 - val_acc: 0.6910\n",
            "Epoch 40/50\n",
            "7982/7982 [==============================] - 1s 181us/step - loss: 0.2389 - acc: 0.9372 - val_loss: 2.3446 - val_acc: 0.6910\n",
            "Epoch 41/50\n",
            "7982/7982 [==============================] - 1s 183us/step - loss: 0.2325 - acc: 0.9377 - val_loss: 2.3784 - val_acc: 0.7010\n",
            "Epoch 42/50\n",
            "7982/7982 [==============================] - 1s 182us/step - loss: 0.2314 - acc: 0.9380 - val_loss: 2.4220 - val_acc: 0.6910\n",
            "Epoch 43/50\n",
            "7982/7982 [==============================] - 1s 180us/step - loss: 0.2306 - acc: 0.9386 - val_loss: 2.4138 - val_acc: 0.6960\n",
            "Epoch 44/50\n",
            "7982/7982 [==============================] - 1s 177us/step - loss: 0.2260 - acc: 0.9380 - val_loss: 2.4360 - val_acc: 0.6910\n",
            "Epoch 45/50\n",
            "6912/7982 [========================>.....] - ETA: 0s - loss: 0.2105 - acc: 0.9420"
          ],
          "name": "stdout"
        },
        {
          "output_type": "stream",
          "text": [
            "7982/7982 [==============================] - 1s 175us/step - loss: 0.2231 - acc: 0.9400 - val_loss: 2.4962 - val_acc: 0.6930\n",
            "Epoch 46/50\n",
            "7982/7982 [==============================] - 1s 174us/step - loss: 0.2177 - acc: 0.9399 - val_loss: 2.5370 - val_acc: 0.6830\n",
            "Epoch 47/50\n",
            "7982/7982 [==============================] - 1s 175us/step - loss: 0.2199 - acc: 0.9391 - val_loss: 2.4945 - val_acc: 0.6780\n",
            "Epoch 48/50\n",
            "7982/7982 [==============================] - 1s 173us/step - loss: 0.2161 - acc: 0.9414 - val_loss: 2.4950 - val_acc: 0.6880\n",
            "Epoch 49/50\n",
            "7982/7982 [==============================] - 1s 177us/step - loss: 0.2161 - acc: 0.9402 - val_loss: 2.5720 - val_acc: 0.6850\n",
            "Epoch 50/50\n",
            "7982/7982 [==============================] - 1s 175us/step - loss: 0.2132 - acc: 0.9404 - val_loss: 2.5458 - val_acc: 0.6870\n"
          ],
          "name": "stdout"
        },
        {
          "output_type": "execute_result",
          "data": {
            "text/plain": [
              "<keras.callbacks.History at 0x7f9cf54afe48>"
            ]
          },
          "metadata": {
            "tags": []
          },
          "execution_count": 39
        }
      ]
    },
    {
      "metadata": {
        "id": "D9vKKncmIIlP",
        "colab_type": "code",
        "colab": {
          "base_uri": "https://localhost:8080/",
          "height": 34
        },
        "outputId": "219c8a3b-6db1-4365-b98e-cfdb6647749f"
      },
      "cell_type": "code",
      "source": [
        "results = model.evaluate(x_test, one_hot_test_labels)"
      ],
      "execution_count": 40,
      "outputs": [
        {
          "output_type": "stream",
          "text": [
            "2246/2246 [==============================] - 0s 82us/step\n"
          ],
          "name": "stdout"
        }
      ]
    },
    {
      "metadata": {
        "id": "La-BW33FIejh",
        "colab_type": "code",
        "colab": {
          "base_uri": "https://localhost:8080/",
          "height": 34
        },
        "outputId": "a7f0e1a6-9efc-4e97-f40e-6f8441b883fd"
      },
      "cell_type": "code",
      "source": [
        "results"
      ],
      "execution_count": 41,
      "outputs": [
        {
          "output_type": "execute_result",
          "data": {
            "text/plain": [
              "[2.738874712270599, 0.6838824577025824]"
            ]
          },
          "metadata": {
            "tags": []
          },
          "execution_count": 41
        }
      ]
    },
    {
      "metadata": {
        "id": "nlgJ10obIh-M",
        "colab_type": "code",
        "colab": {}
      },
      "cell_type": "code",
      "source": [
        ""
      ],
      "execution_count": 0,
      "outputs": []
    }
  ]
}